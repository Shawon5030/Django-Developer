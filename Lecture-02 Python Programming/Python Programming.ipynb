{
 "cells": [
  {
   "cell_type": "markdown",
   "id": "70d2c32e",
   "metadata": {},
   "source": [
    "# Class – 02 -Assignment\n"
   ]
  },
  {
   "cell_type": "code",
   "execution_count": 1,
   "id": "3860718c",
   "metadata": {},
   "outputs": [
    {
     "name": "stdout",
     "output_type": "stream",
     "text": [
      "Mahmudul Haque Shawon\n"
     ]
    }
   ],
   "source": [
    "#1. Print your name\n",
    "name = print('Mahmudul Haque Shawon')\n",
    "name"
   ]
  },
  {
   "cell_type": "code",
   "execution_count": 5,
   "id": "3869c888",
   "metadata": {},
   "outputs": [
    {
     "name": "stdout",
     "output_type": "stream",
     "text": [
      "Enter Your Batch Number :7\n"
     ]
    }
   ],
   "source": [
    "#2. Input your batch number using input() function\n",
    "batch_number = int(input(\"Enter Your Batch Number :\"))"
   ]
  },
  {
   "cell_type": "code",
   "execution_count": 6,
   "id": "a1beb988",
   "metadata": {},
   "outputs": [
    {
     "data": {
      "text/plain": [
       "7"
      ]
     },
     "execution_count": 6,
     "metadata": {},
     "output_type": "execute_result"
    }
   ],
   "source": [
    "batch_number"
   ]
  },
  {
   "cell_type": "code",
   "execution_count": 17,
   "id": "a964648e",
   "metadata": {},
   "outputs": [
    {
     "name": "stdout",
     "output_type": "stream",
     "text": [
      "Mahmudul Haque Shawon\n",
      "Hello\n",
      "True\n",
      "2\n",
      "3.14\n"
     ]
    }
   ],
   "source": [
    "#3. Create 5 different valid Variables and print\n",
    "MyName = 'Mahmudul Haque Shawon'\n",
    "another_variable = \"Hello\"\n",
    "my_variable_2 = 3.14\n",
    "_this_is_valid_too = True\n",
    "thisOneAlso = 2\n",
    "print(f'{MyName}\\n{another_variable}\\n{_this_is_valid_too}\\n{thisOneAlso}\\n{my_variable_2}')"
   ]
  },
  {
   "cell_type": "code",
   "execution_count": 19,
   "id": "59ebee91",
   "metadata": {},
   "outputs": [
    {
     "data": {
      "text/plain": [
       "'Django'"
      ]
     },
     "execution_count": 19,
     "metadata": {},
     "output_type": "execute_result"
    }
   ],
   "source": [
    "#4. Create Pascal Case Variable.\n",
    "PascalCaseVariable = 'Django'\n",
    "PascalCaseVariable"
   ]
  },
  {
   "cell_type": "code",
   "execution_count": 23,
   "id": "5bf6d0fb",
   "metadata": {},
   "outputs": [
    {
     "name": "stdout",
     "output_type": "stream",
     "text": [
      "100\n",
      "100\n",
      "100\n"
     ]
    }
   ],
   "source": [
    "#5. Assign a single value to Multiple variables\n",
    "x = y = z = 100\n",
    "print(x)\n",
    "print(y)\n",
    "print(z)"
   ]
  },
  {
   "cell_type": "code",
   "execution_count": 27,
   "id": "49034d5d",
   "metadata": {},
   "outputs": [
    {
     "name": "stdout",
     "output_type": "stream",
     "text": [
      "Enter a float value :10.1183\n"
     ]
    }
   ],
   "source": [
    "#6. Input float value using input()\n",
    "float_value = float(input('Enter a float value :'))"
   ]
  },
  {
   "cell_type": "code",
   "execution_count": 28,
   "id": "bbd07eb1",
   "metadata": {},
   "outputs": [
    {
     "data": {
      "text/plain": [
       "10.1183"
      ]
     },
     "execution_count": 28,
     "metadata": {},
     "output_type": "execute_result"
    }
   ],
   "source": [
    "float_value"
   ]
  },
  {
   "cell_type": "code",
   "execution_count": 32,
   "id": "36b0501c",
   "metadata": {},
   "outputs": [
    {
     "data": {
      "text/plain": [
       "'WELCOME TO DJANGO FOR WEB AND AI'"
      ]
     },
     "execution_count": 32,
     "metadata": {},
     "output_type": "execute_result"
    }
   ],
   "source": [
    "#7. a = ‘Welcome to Django for web and Ai’ convert into upper case.\n",
    "a = 'Welcome to Django for web and Ai'\n",
    "a.upper()"
   ]
  },
  {
   "cell_type": "code",
   "execution_count": 33,
   "id": "bffbd846",
   "metadata": {},
   "outputs": [
    {
     "data": {
      "text/plain": [
       "'Python'"
      ]
     },
     "execution_count": 33,
     "metadata": {},
     "output_type": "execute_result"
    }
   ],
   "source": [
    "#8. b = ‘ Python’remove whitespace.\n",
    "b = '  Python'\n",
    "b.strip()"
   ]
  },
  {
   "cell_type": "code",
   "execution_count": null,
   "id": "53b4b9a7",
   "metadata": {},
   "outputs": [],
   "source": []
  }
 ],
 "metadata": {
  "kernelspec": {
   "display_name": "Python 3 (ipykernel)",
   "language": "python",
   "name": "python3"
  },
  "language_info": {
   "codemirror_mode": {
    "name": "ipython",
    "version": 3
   },
   "file_extension": ".py",
   "mimetype": "text/x-python",
   "name": "python",
   "nbconvert_exporter": "python",
   "pygments_lexer": "ipython3",
   "version": "3.11.5"
  }
 },
 "nbformat": 4,
 "nbformat_minor": 5
}
